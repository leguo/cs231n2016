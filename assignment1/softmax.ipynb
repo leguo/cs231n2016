{
 "cells": [
  {
   "cell_type": "markdown",
   "metadata": {
    "deletable": true,
    "editable": true
   },
   "source": [
    "# Softmax exercise\n",
    "\n",
    "*Complete and hand in this completed worksheet (including its outputs and any supporting code outside of the worksheet) with your assignment submission. For more details see the [assignments page](http://vision.stanford.edu/teaching/cs231n/assignments.html) on the course website.*\n",
    "\n",
    "This exercise is analogous to the SVM exercise. You will:\n",
    "\n",
    "- implement a fully-vectorized **loss function** for the Softmax classifier\n",
    "- implement the fully-vectorized expression for its **analytic gradient**\n",
    "- **check your implementation** with numerical gradient\n",
    "- use a validation set to **tune the learning rate and regularization** strength\n",
    "- **optimize** the loss function with **SGD**\n",
    "- **visualize** the final learned weights\n"
   ]
  },
  {
   "cell_type": "code",
   "execution_count": 1,
   "metadata": {
    "collapsed": false,
    "deletable": true,
    "editable": true
   },
   "outputs": [],
   "source": [
    "import random\n",
    "import numpy as np\n",
    "from cs231n.data_utils import load_CIFAR10\n",
    "import matplotlib.pyplot as plt\n",
    "%matplotlib inline\n",
    "plt.rcParams['figure.figsize'] = (10.0, 8.0) # set default size of plots\n",
    "plt.rcParams['image.interpolation'] = 'nearest'\n",
    "plt.rcParams['image.cmap'] = 'gray'\n",
    "\n",
    "# for auto-reloading extenrnal modules\n",
    "# see http://stackoverflow.com/questions/1907993/autoreload-of-modules-in-ipython\n",
    "%load_ext autoreload\n",
    "%autoreload 2"
   ]
  },
  {
   "cell_type": "code",
   "execution_count": 2,
   "metadata": {
    "collapsed": false,
    "deletable": true,
    "editable": true
   },
   "outputs": [
    {
     "name": "stdout",
     "output_type": "stream",
     "text": [
      "Train data shape:  (49000, 3073)\n",
      "Train labels shape:  (49000,)\n",
      "Validation data shape:  (1000, 3073)\n",
      "Validation labels shape:  (1000,)\n",
      "Test data shape:  (1000, 3073)\n",
      "Test labels shape:  (1000,)\n",
      "dev data shape:  (500, 3073)\n",
      "dev labels shape:  (500,)\n"
     ]
    }
   ],
   "source": [
    "def get_CIFAR10_data(num_training=49000, num_validation=1000, num_test=1000, num_dev=500):\n",
    "  \"\"\"\n",
    "  Load the CIFAR-10 dataset from disk and perform preprocessing to prepare\n",
    "  it for the linear classifier. These are the same steps as we used for the\n",
    "  SVM, but condensed to a single function.  \n",
    "  \"\"\"\n",
    "  # Load the raw CIFAR-10 data\n",
    "  cifar10_dir = 'cs231n/datasets/cifar-10-batches-py'\n",
    "  X_train, y_train, X_test, y_test = load_CIFAR10(cifar10_dir)\n",
    "  \n",
    "  # subsample the data\n",
    "  mask = range(num_training, num_training + num_validation)\n",
    "  X_val = X_train[mask]\n",
    "  y_val = y_train[mask]\n",
    "  mask = range(num_training)\n",
    "  X_train = X_train[mask]\n",
    "  y_train = y_train[mask]\n",
    "  mask = range(num_test)\n",
    "  X_test = X_test[mask]\n",
    "  y_test = y_test[mask]\n",
    "  mask = np.random.choice(num_training, num_dev, replace=False)\n",
    "  X_dev = X_train[mask]\n",
    "  y_dev = y_train[mask]\n",
    "  \n",
    "  # Preprocessing: reshape the image data into rows\n",
    "  X_train = np.reshape(X_train, (X_train.shape[0], -1))\n",
    "  X_val = np.reshape(X_val, (X_val.shape[0], -1))\n",
    "  X_test = np.reshape(X_test, (X_test.shape[0], -1))\n",
    "  X_dev = np.reshape(X_dev, (X_dev.shape[0], -1))\n",
    "  \n",
    "  # Normalize the data: subtract the mean image\n",
    "  mean_image = np.mean(X_train, axis = 0)\n",
    "  X_train -= mean_image\n",
    "  X_val -= mean_image\n",
    "  X_test -= mean_image\n",
    "  X_dev -= mean_image\n",
    "  \n",
    "  # add bias dimension and transform into columns\n",
    "  X_train = np.hstack([X_train, np.ones((X_train.shape[0], 1))])\n",
    "  X_val = np.hstack([X_val, np.ones((X_val.shape[0], 1))])\n",
    "  X_test = np.hstack([X_test, np.ones((X_test.shape[0], 1))])\n",
    "  X_dev = np.hstack([X_dev, np.ones((X_dev.shape[0], 1))])\n",
    "  \n",
    "  return X_train, y_train, X_val, y_val, X_test, y_test, X_dev, y_dev\n",
    "\n",
    "\n",
    "# Invoke the above function to get our data.\n",
    "X_train, y_train, X_val, y_val, X_test, y_test, X_dev, y_dev = get_CIFAR10_data()\n",
    "print 'Train data shape: ', X_train.shape\n",
    "print 'Train labels shape: ', y_train.shape\n",
    "print 'Validation data shape: ', X_val.shape\n",
    "print 'Validation labels shape: ', y_val.shape\n",
    "print 'Test data shape: ', X_test.shape\n",
    "print 'Test labels shape: ', y_test.shape\n",
    "print 'dev data shape: ', X_dev.shape\n",
    "print 'dev labels shape: ', y_dev.shape"
   ]
  },
  {
   "cell_type": "markdown",
   "metadata": {
    "deletable": true,
    "editable": true
   },
   "source": [
    "## Softmax Classifier\n",
    "\n",
    "Your code for this section will all be written inside **cs231n/classifiers/softmax.py**. \n"
   ]
  },
  {
   "cell_type": "code",
   "execution_count": 3,
   "metadata": {
    "collapsed": false,
    "deletable": true,
    "editable": true
   },
   "outputs": [
    {
     "name": "stdout",
     "output_type": "stream",
     "text": [
      "loss: 2.344464\n",
      "sanity check: 2.302585\n"
     ]
    }
   ],
   "source": [
    "# First implement the naive softmax loss function with nested loops.\n",
    "# Open the file cs231n/classifiers/softmax.py and implement the\n",
    "# softmax_loss_naive function.\n",
    "\n",
    "from cs231n.classifiers.softmax import softmax_loss_naive\n",
    "import time\n",
    "\n",
    "# Generate a random softmax weight matrix and use it to compute the loss.\n",
    "W = np.random.randn(3073, 10) * 0.0001\n",
    "loss, grad = softmax_loss_naive(W, X_dev, y_dev, 0.0)\n",
    "\n",
    "# As a rough sanity check, our loss should be something close to -log(0.1).\n",
    "print 'loss: %f' % loss\n",
    "print 'sanity check: %f' % (-np.log(0.1))"
   ]
  },
  {
   "cell_type": "markdown",
   "metadata": {
    "deletable": true,
    "editable": true
   },
   "source": [
    "## Inline Question 1:\n",
    "Why do we expect our loss to be close to -log(0.1)? Explain briefly.**\n",
    "\n",
    "**Your answer:** *Fill this in*\n"
   ]
  },
  {
   "cell_type": "code",
   "execution_count": 4,
   "metadata": {
    "collapsed": false,
    "deletable": true,
    "editable": true
   },
   "outputs": [
    {
     "name": "stdout",
     "output_type": "stream",
     "text": [
      "numerical: 2.068070 analytic: 2.068070, relative error: 2.334233e-09\n",
      "numerical: 1.582483 analytic: 1.582483, relative error: 3.355966e-10\n",
      "numerical: -0.718947 analytic: -0.718947, relative error: 4.740917e-08\n",
      "numerical: -0.325261 analytic: -0.325262, relative error: 2.202679e-07\n",
      "numerical: -1.501197 analytic: -1.501197, relative error: 9.551069e-09\n",
      "numerical: -2.146541 analytic: -2.146541, relative error: 1.658474e-08\n",
      "numerical: 0.302870 analytic: 0.302870, relative error: 1.675617e-07\n",
      "numerical: 1.061170 analytic: 1.061170, relative error: 3.955592e-08\n",
      "numerical: 1.097283 analytic: 1.097283, relative error: 6.769550e-09\n",
      "numerical: 1.109499 analytic: 1.109499, relative error: 1.699028e-08\n",
      "numerical: -0.974903 analytic: -0.974903, relative error: 1.564074e-08\n",
      "numerical: -0.056716 analytic: -0.056716, relative error: 6.136210e-07\n",
      "numerical: 0.986865 analytic: 0.986865, relative error: 5.392942e-08\n",
      "numerical: 1.098061 analytic: 1.098061, relative error: 3.469686e-08\n",
      "numerical: 0.436236 analytic: 0.436236, relative error: 7.009816e-08\n",
      "numerical: 2.187379 analytic: 2.187379, relative error: 1.903019e-08\n",
      "numerical: 0.708524 analytic: 0.708524, relative error: 9.328077e-08\n",
      "numerical: -0.918042 analytic: -0.918042, relative error: 1.885145e-08\n",
      "numerical: -0.546274 analytic: -0.546274, relative error: 1.592187e-08\n",
      "numerical: 2.092243 analytic: 2.092242, relative error: 2.351075e-08\n"
     ]
    }
   ],
   "source": [
    "# Complete the implementation of softmax_loss_naive and implement a (naive)\n",
    "# version of the gradient that uses nested loops.\n",
    "loss, grad = softmax_loss_naive(W, X_dev, y_dev, 0.0)\n",
    "\n",
    "# As we did for the SVM, use numeric gradient checking as a debugging tool.\n",
    "# The numeric gradient should be close to the analytic gradient.\n",
    "from cs231n.gradient_check import grad_check_sparse\n",
    "f = lambda w: softmax_loss_naive(w, X_dev, y_dev, 0.0)[0]\n",
    "grad_numerical = grad_check_sparse(f, W, grad, 10)\n",
    "\n",
    "# similar to SVM case, do another gradient check with regularization\n",
    "loss, grad = softmax_loss_naive(W, X_dev, y_dev, 1e2)\n",
    "f = lambda w: softmax_loss_naive(w, X_dev, y_dev, 1e2)[0]\n",
    "grad_numerical = grad_check_sparse(f, W, grad, 10)"
   ]
  },
  {
   "cell_type": "code",
   "execution_count": 5,
   "metadata": {
    "collapsed": false,
    "deletable": true,
    "editable": true
   },
   "outputs": [
    {
     "name": "stdout",
     "output_type": "stream",
     "text": [
      "naive loss: 2.344464e+00 computed in 0.009056s\n",
      "vectorized loss: 2.344464e+00 computed in 0.009347s\n",
      "Loss difference: 0.000000\n",
      "Gradient difference: 0.000000\n"
     ]
    }
   ],
   "source": [
    "# Now that we have a naive implementation of the softmax loss function and its gradient,\n",
    "# implement a vectorized version in softmax_loss_vectorized.\n",
    "# The two versions should compute the same results, but the vectorized version should be\n",
    "# much faster.\n",
    "tic = time.time()\n",
    "loss_naive, grad_naive = softmax_loss_naive(W, X_dev, y_dev, 0.00001)\n",
    "toc = time.time()\n",
    "print 'naive loss: %e computed in %fs' % (loss_naive, toc - tic)\n",
    "\n",
    "from cs231n.classifiers.softmax import softmax_loss_vectorized\n",
    "tic = time.time()\n",
    "loss_vectorized, grad_vectorized = softmax_loss_vectorized(W, X_dev, y_dev, 0.00001)\n",
    "toc = time.time()\n",
    "print 'vectorized loss: %e computed in %fs' % (loss_vectorized, toc - tic)\n",
    "\n",
    "# As we did for the SVM, we use the Frobenius norm to compare the two versions\n",
    "# of the gradient.\n",
    "grad_difference = np.linalg.norm(grad_naive - grad_vectorized, ord='fro')\n",
    "print 'Loss difference: %f' % np.abs(loss_naive - loss_vectorized)\n",
    "print 'Gradient difference: %f' % grad_difference"
   ]
  },
  {
   "cell_type": "code",
   "execution_count": 6,
   "metadata": {
    "collapsed": false,
    "deletable": true,
    "editable": true
   },
   "outputs": [
    {
     "name": "stdout",
     "output_type": "stream",
     "text": [
      "lr= 1e-07  reg= 50000.0\n",
      "iteration 0 / 1500: loss 773.049442\n",
      "iteration 100 / 1500: loss 283.734204\n",
      "iteration 200 / 1500: loss 105.072868\n",
      "iteration 300 / 1500: loss 39.860435\n",
      "iteration 400 / 1500: loss 15.906812\n",
      "iteration 500 / 1500: loss 7.162472\n",
      "iteration 600 / 1500: loss 3.908186\n",
      "iteration 700 / 1500: loss 2.745841\n",
      "iteration 800 / 1500: loss 2.315836\n",
      "iteration 900 / 1500: loss 2.199767\n",
      "iteration 1000 / 1500: loss 2.081009\n",
      "iteration 1100 / 1500: loss 2.081132\n",
      "iteration 1200 / 1500: loss 2.091534\n",
      "iteration 1300 / 1500: loss 2.151834\n",
      "iteration 1400 / 1500: loss 2.070535\n",
      "lr= 1e-07  reg= 100000.0\n",
      "iteration 0 / 1500: loss 1518.342674\n",
      "iteration 100 / 1500: loss 204.599890\n",
      "iteration 200 / 1500: loss 29.182502\n",
      "iteration 300 / 1500: loss 5.772868\n",
      "iteration 400 / 1500: loss 2.639837\n",
      "iteration 500 / 1500: loss 2.199140\n",
      "iteration 600 / 1500: loss 2.113395\n",
      "iteration 700 / 1500: loss 2.147913\n",
      "iteration 800 / 1500: loss 2.113816\n",
      "iteration 900 / 1500: loss 2.146040\n",
      "iteration 1000 / 1500: loss 2.113137\n",
      "iteration 1100 / 1500: loss 2.110263\n",
      "iteration 1200 / 1500: loss 2.189598\n",
      "iteration 1300 / 1500: loss 2.145301\n",
      "iteration 1400 / 1500: loss 2.143502\n",
      "lr= 5e-07  reg= 50000.0\n",
      "iteration 0 / 1500: loss 777.892779\n",
      "iteration 100 / 1500: loss 6.936068\n",
      "iteration 200 / 1500: loss 2.147792\n",
      "iteration 300 / 1500: loss 2.085371\n",
      "iteration 400 / 1500: loss 2.090186\n",
      "iteration 500 / 1500: loss 2.129272\n",
      "iteration 600 / 1500: loss 2.080683\n",
      "iteration 700 / 1500: loss 2.101772\n",
      "iteration 800 / 1500: loss 2.094520\n",
      "iteration 900 / 1500: loss 2.060269\n",
      "iteration 1000 / 1500: loss 2.099616\n",
      "iteration 1100 / 1500: loss 2.024753\n",
      "iteration 1200 / 1500: loss 2.057774\n",
      "iteration 1300 / 1500: loss 2.115602\n",
      "iteration 1400 / 1500: loss 2.083876\n",
      "lr= 5e-07  reg= 100000.0\n",
      "iteration 0 / 1500: loss 1523.244209\n",
      "iteration 100 / 1500: loss 2.250664\n",
      "iteration 200 / 1500: loss 2.128565\n",
      "iteration 300 / 1500: loss 2.147135\n",
      "iteration 400 / 1500: loss 2.161992\n",
      "iteration 500 / 1500: loss 2.142092\n",
      "iteration 600 / 1500: loss 2.101994\n",
      "iteration 700 / 1500: loss 2.199375\n",
      "iteration 800 / 1500: loss 2.152274\n",
      "iteration 900 / 1500: loss 2.170254\n",
      "iteration 1000 / 1500: loss 2.111049\n",
      "iteration 1100 / 1500: loss 2.137416\n",
      "iteration 1200 / 1500: loss 2.139279\n",
      "iteration 1300 / 1500: loss 2.183113\n",
      "iteration 1400 / 1500: loss 2.198463\n",
      "lr 1.000000e-07 reg 5.000000e+04 train accuracy: 0.325122 val accuracy: 0.342000\n",
      "lr 1.000000e-07 reg 1.000000e+05 train accuracy: 0.307082 val accuracy: 0.320000\n",
      "lr 5.000000e-07 reg 5.000000e+04 train accuracy: 0.326510 val accuracy: 0.348000\n",
      "lr 5.000000e-07 reg 1.000000e+05 train accuracy: 0.295531 val accuracy: 0.317000\n",
      "best validation accuracy achieved during cross-validation: 0.348000\n"
     ]
    }
   ],
   "source": [
    "# Use the validation set to tune hyperparameters (regularization strength and\n",
    "# learning rate). You should experiment with different ranges for the learning\n",
    "# rates and regularization strengths; if you are careful you should be able to\n",
    "# get a classification accuracy of over 0.35 on the validation set.\n",
    "from cs231n.classifiers import Softmax\n",
    "results = {}\n",
    "best_val = -1\n",
    "best_softmax = None\n",
    "learning_rates = [1e-7, 5e-7]\n",
    "regularization_strengths = [5e4, 1e5]\n",
    "\n",
    "################################################################################\n",
    "# TODO:                                                                        #\n",
    "# Use the validation set to set the learning rate and regularization strength. #\n",
    "# This should be identical to the validation that you did for the SVM; save    #\n",
    "# the best trained softmax classifer in best_softmax.                          #\n",
    "################################################################################\n",
    "from itertools import product\n",
    "for lr, reg in product(learning_rates, regularization_strengths):\n",
    "    print \"lr=\", lr, \" reg=\", reg\n",
    "    softmax = Softmax()\n",
    "    loss_history = softmax.train(X_train, y_train,\n",
    "                                 learning_rate=lr, reg=reg, num_iters=1500,\n",
    "                                 batch_size=200, verbose=True)\n",
    "    y_pred_train = softmax.predict(X_train)\n",
    "    acc_train = np.mean(y_pred_train == y_train)\n",
    "    y_pred_val = softmax.predict(X_val)\n",
    "    acc_val = np.mean(y_pred_val == y_val)\n",
    "    results[(lr, reg)] = (acc_train, acc_val)\n",
    "    if acc_val > best_val:\n",
    "        best_val = acc_val\n",
    "        best_softmax = softmax\n",
    "################################################################################\n",
    "#                              END OF YOUR CODE                                #\n",
    "################################################################################\n",
    "    \n",
    "# Print out results.\n",
    "for lr, reg in sorted(results):\n",
    "    train_accuracy, val_accuracy = results[(lr, reg)]\n",
    "    print 'lr %e reg %e train accuracy: %f val accuracy: %f' % (\n",
    "                lr, reg, train_accuracy, val_accuracy)\n",
    "    \n",
    "print 'best validation accuracy achieved during cross-validation: %f' % best_val"
   ]
  },
  {
   "cell_type": "code",
   "execution_count": 7,
   "metadata": {
    "collapsed": false,
    "deletable": true,
    "editable": true
   },
   "outputs": [
    {
     "name": "stdout",
     "output_type": "stream",
     "text": [
      "softmax on raw pixels final test set accuracy: 0.347000\n"
     ]
    }
   ],
   "source": [
    "# evaluate on test set\n",
    "# Evaluate the best softmax on test set\n",
    "y_test_pred = best_softmax.predict(X_test)\n",
    "test_accuracy = np.mean(y_test == y_test_pred)\n",
    "print 'softmax on raw pixels final test set accuracy: %f' % (test_accuracy, )"
   ]
  },
  {
   "cell_type": "code",
   "execution_count": 8,
   "metadata": {
    "collapsed": false,
    "deletable": true,
    "editable": true
   },
   "outputs": [
    {
     "data": {
      "image/png": "[encoded data removed]",
      "text/plain": [
       "<matplotlib.figure.Figure at 0x10a8ce510>"
      ]
     },
     "metadata": {},
     "output_type": "display_data"
    }
   ],
   "source": [
    "# Visualize the learned weights for each class\n",
    "w = best_softmax.W[:-1,:] # strip out the bias\n",
    "w = w.reshape(32, 32, 3, 10)\n",
    "\n",
    "w_min, w_max = np.min(w), np.max(w)\n",
    "\n",
    "classes = ['plane', 'car', 'bird', 'cat', 'deer', 'dog', 'frog', 'horse', 'ship', 'truck']\n",
    "for i in xrange(10):\n",
    "  plt.subplot(2, 5, i + 1)\n",
    "  \n",
    "  # Rescale the weights to be between 0 and 255\n",
    "  wimg = 255.0 * (w[:, :, :, i].squeeze() - w_min) / (w_max - w_min)\n",
    "  plt.imshow(wimg.astype('uint8'))\n",
    "  plt.axis('off')\n",
    "  plt.title(classes[i])"
   ]
  },
  {
   "cell_type": "code",
   "execution_count": null,
   "metadata": {
    "collapsed": true,
    "deletable": true,
    "editable": true
   },
   "outputs": [],
   "source": []
  }
 ],
 "metadata": {
  "kernelspec": {
   "display_name": "Python 2",
   "language": "python",
   "name": "python2"
  },
  "language_info": {
   "codemirror_mode": {
    "name": "ipython",
    "version": 2
   },
   "file_extension": ".py",
   "mimetype": "text/x-python",
   "name": "python",
   "nbconvert_exporter": "python",
   "pygments_lexer": "ipython2",
   "version": "2.7.9"
  }
 },
 "nbformat": 4,
 "nbformat_minor": 0
}
